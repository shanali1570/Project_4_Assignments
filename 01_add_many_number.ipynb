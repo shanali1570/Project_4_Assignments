{
  "nbformat": 4,
  "nbformat_minor": 0,
  "metadata": {
    "colab": {
      "provenance": [],
      "authorship_tag": "ABX9TyOfZVrQVrkRHpPO/Un/I9Hd",
      "include_colab_link": true
    },
    "kernelspec": {
      "name": "python3",
      "display_name": "Python 3"
    },
    "language_info": {
      "name": "python"
    }
  },
  "cells": [
    {
      "cell_type": "markdown",
      "metadata": {
        "id": "view-in-github",
        "colab_type": "text"
      },
      "source": [
        "<a href=\"https://colab.research.google.com/github/shanali1570/Project_4_Assignments/blob/main/01_add_many_number.ipynb\" target=\"_parent\"><img src=\"https://colab.research.google.com/assets/colab-badge.svg\" alt=\"Open In Colab\"/></a>"
      ]
    },
    {
      "cell_type": "markdown",
      "source": [
        "**Problem Statement**\n",
        "Write a function that takes a list of numbers and returns the sum of those numbers."
      ],
      "metadata": {
        "id": "4tv70VnuaLH-"
      }
    },
    {
      "cell_type": "code",
      "execution_count": 2,
      "metadata": {
        "colab": {
          "base_uri": "https://localhost:8080/"
        },
        "id": "ip7JMlqFZnZE",
        "outputId": "d32630bb-e18a-4e36-c917-cf40fad8126b"
      },
      "outputs": [
        {
          "output_type": "stream",
          "name": "stdout",
          "text": [
            "The sum of [1, 2, 3, 4, 5] is: 15\n"
          ]
        }
      ],
      "source": [
        "def add_many_numbers(numbers: list[int]) -> int :\n",
        "  \"\"\"\n",
        "  Takes in a list of numbers and returns the sum of those using a loop.\n",
        "  \"\"\"\n",
        "\n",
        "  total: int = 0  # Initialize sum\n",
        "  for number in numbers: # Loop through each number in the list\n",
        "    total += number  # Add each number to total\n",
        "\n",
        "  return total # Return final sum\n",
        "\n",
        "def main():\n",
        "  numbers: list[int] = [1,2,3,4,5]  # Define a list of numbers\n",
        "  sum_of_numbers: int = add_many_numbers(numbers) # Calculate the sum using our function\n",
        "  # Print the result in a user-friendly way\n",
        "  print(f\"The sum of {numbers} is: {sum_of_numbers}\")\n",
        "\n",
        "if __name__ == '__main__':\n",
        "  main()\n",
        "\n"
      ]
    }
  ]
}